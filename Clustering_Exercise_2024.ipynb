{
  "nbformat": 4,
  "nbformat_minor": 0,
  "metadata": {
    "colab": {
      "provenance": [],
      "authorship_tag": "ABX9TyPeBC/WEX6WmX2um0hly88m",
      "include_colab_link": true
    },
    "kernelspec": {
      "name": "python3",
      "display_name": "Python 3"
    },
    "language_info": {
      "name": "python"
    }
  },
  "cells": [
    {
      "cell_type": "markdown",
      "metadata": {
        "id": "view-in-github",
        "colab_type": "text"
      },
      "source": [
        "<a href=\"https://colab.research.google.com/github/dmainagithub/dmainagithub/blob/main/Clustering_Exercise_2024.ipynb\" target=\"_parent\"><img src=\"https://colab.research.google.com/assets/colab-badge.svg\" alt=\"Open In Colab\"/></a>"
      ]
    },
    {
      "cell_type": "code",
      "execution_count": 1,
      "metadata": {
        "colab": {
          "base_uri": "https://localhost:8080/"
        },
        "id": "cJv7GU3RTyxZ",
        "outputId": "2b17f08b-5305-4c5e-da24-bdb75cbef94e"
      },
      "outputs": [
        {
          "output_type": "stream",
          "name": "stdout",
          "text": [
            "   Hypertension  Diabetes  Heart Disease  Arthritis  Asthma\n",
            "0             1         0              1          0       0\n",
            "1             0         1              0          1       0\n",
            "2             1         1              0          0       1\n",
            "3             1         1              1          1       0\n",
            "4             0         0              0          1       1\n",
            "5             1         0              1          0       0\n",
            "6             0         1              0          0       1\n"
          ]
        }
      ],
      "source": [
        "import pandas as pd\n",
        "\n",
        "# Sample data\n",
        "data = {\n",
        "    'Hypertension': [1, 0, 1, 1, 0, 1, 0],\n",
        "    'Diabetes': [0, 1, 1, 1, 0, 0, 1],\n",
        "    'Heart Disease': [1, 0, 0, 1, 0, 1, 0],\n",
        "    'Arthritis': [0, 1, 0, 1, 1, 0, 0],\n",
        "    'Asthma': [0, 0, 1, 0, 1, 0, 1]\n",
        "}\n",
        "\n",
        "df = pd.DataFrame(data)\n",
        "print(df)\n"
      ]
    },
    {
      "cell_type": "code",
      "source": [
        "from sklearn.preprocessing import StandardScaler\n",
        "\n",
        "scaler = StandardScaler()\n",
        "df_scaled = scaler.fit_transform(df)\n"
      ],
      "metadata": {
        "id": "atWGWAv5T5aY"
      },
      "execution_count": 2,
      "outputs": []
    },
    {
      "cell_type": "code",
      "source": [
        "from sklearn.cluster import KMeans\n",
        "import numpy as np\n",
        "\n",
        "# Choosing the number of clusters\n",
        "kmeans = KMeans(n_clusters=3, random_state=0)\n",
        "clusters = kmeans.fit_predict(df_scaled)\n",
        "\n",
        "# Adding cluster labels to the dataframe\n",
        "df['Cluster'] = clusters\n",
        "print(df)\n"
      ],
      "metadata": {
        "colab": {
          "base_uri": "https://localhost:8080/"
        },
        "id": "RfnBdVKjUMhE",
        "outputId": "4f43fe95-1f27-4058-abbc-e03cbf8992eb"
      },
      "execution_count": 3,
      "outputs": [
        {
          "output_type": "stream",
          "name": "stdout",
          "text": [
            "   Hypertension  Diabetes  Heart Disease  Arthritis  Asthma  Cluster\n",
            "0             1         0              1          0       0        1\n",
            "1             0         1              0          1       0        0\n",
            "2             1         1              0          0       1        2\n",
            "3             1         1              1          1       0        1\n",
            "4             0         0              0          1       1        0\n",
            "5             1         0              1          0       0        1\n",
            "6             0         1              0          0       1        2\n"
          ]
        },
        {
          "output_type": "stream",
          "name": "stderr",
          "text": [
            "/usr/local/lib/python3.10/dist-packages/sklearn/cluster/_kmeans.py:870: FutureWarning: The default value of `n_init` will change from 10 to 'auto' in 1.4. Set the value of `n_init` explicitly to suppress the warning\n",
            "  warnings.warn(\n"
          ]
        }
      ]
    },
    {
      "cell_type": "code",
      "source": [
        "from sklearn.metrics import silhouette_score\n",
        "\n",
        "score = silhouette_score(df_scaled, clusters)\n",
        "print(f'Silhouette Score: {score}')\n"
      ],
      "metadata": {
        "colab": {
          "base_uri": "https://localhost:8080/"
        },
        "id": "SOUZJdoKUxx8",
        "outputId": "4d73571e-c597-4a4d-e362-95abece155d3"
      },
      "execution_count": 4,
      "outputs": [
        {
          "output_type": "stream",
          "name": "stdout",
          "text": [
            "Silhouette Score: 0.33304029854555717\n"
          ]
        }
      ]
    },
    {
      "cell_type": "code",
      "source": [
        "from sklearn.decomposition import PCA\n",
        "import matplotlib.pyplot as plt\n",
        "import seaborn as sns\n",
        "\n",
        "pca = PCA(n_components=2)\n",
        "df_pca = pca.fit_transform(df_scaled)\n",
        "\n",
        "# Adding the PCA results to the dataframe\n",
        "df['PCA1'] = df_pca[:, 0]\n",
        "df['PCA2'] = df_pca[:, 1]\n",
        "\n",
        "# Plotting the clusters\n",
        "plt.figure(figsize=(10, 7))\n",
        "sns.scatterplot(x='PCA1', y='PCA2', hue='Cluster', data=df, palette='viridis')\n",
        "plt.title('Clusters of Multimorbidity')\n",
        "plt.show()\n"
      ],
      "metadata": {
        "colab": {
          "base_uri": "https://localhost:8080/",
          "height": 525
        },
        "id": "w3DAC0omVYOa",
        "outputId": "d3d73edb-41d6-4ec5-cbfa-cfe0d2310f84"
      },
      "execution_count": 5,
      "outputs": [
        {
          "output_type": "display_data",
          "data": {
            "text/plain": [
              "<Figure size 1000x700 with 1 Axes>"
            ],
            "image/png": "[encoded data removed]"
          },
          "metadata": {}
        }
      ]
    },
    {
      "cell_type": "code",
      "source": [
        "# Grouping by clusters to see the common diseases in each cluster\n",
        "cluster_summary = df.groupby('Cluster').mean()\n",
        "print(cluster_summary)\n"
      ],
      "metadata": {
        "colab": {
          "base_uri": "https://localhost:8080/"
        },
        "id": "KOhDYpfKWC6Q",
        "outputId": "f33048ab-9442-4003-d4ba-d060f87131da"
      },
      "execution_count": 6,
      "outputs": [
        {
          "output_type": "stream",
          "name": "stdout",
          "text": [
            "         Hypertension  Diabetes  Heart Disease  Arthritis  Asthma      PCA1  \\\n",
            "Cluster                                                                       \n",
            "0                 0.0  0.500000            0.0   1.000000     0.5 -1.389242   \n",
            "1                 1.0  0.333333            1.0   0.333333     0.0  1.749855   \n",
            "2                 0.5  1.000000            0.0   0.000000     1.0 -1.235540   \n",
            "\n",
            "             PCA2  \n",
            "Cluster            \n",
            "0        0.978364  \n",
            "1        0.180379  \n",
            "2       -1.248932  \n"
          ]
        }
      ]
    },
    {
      "cell_type": "code",
      "source": [
        "# Grouping by clusters to see the common diseases in each cluster\n",
        "cluster_summary = df.groupby('Cluster').mean()\n",
        "print(cluster_summary)\n"
      ],
      "metadata": {
        "colab": {
          "base_uri": "https://localhost:8080/"
        },
        "id": "3zGBi17TWDHQ",
        "outputId": "ee8966f3-b896-4cee-9e67-f138508ebd0e"
      },
      "execution_count": 7,
      "outputs": [
        {
          "output_type": "stream",
          "name": "stdout",
          "text": [
            "         Hypertension  Diabetes  Heart Disease  Arthritis  Asthma      PCA1  \\\n",
            "Cluster                                                                       \n",
            "0                 0.0  0.500000            0.0   1.000000     0.5 -1.389242   \n",
            "1                 1.0  0.333333            1.0   0.333333     0.0  1.749855   \n",
            "2                 0.5  1.000000            0.0   0.000000     1.0 -1.235540   \n",
            "\n",
            "             PCA2  \n",
            "Cluster            \n",
            "0        0.978364  \n",
            "1        0.180379  \n",
            "2       -1.248932  \n"
          ]
        }
      ]
    },
    {
      "cell_type": "code",
      "source": [
        "# Grouping by clusters to see the common diseases in each cluster\n",
        "cluster_summary = df.groupby('Cluster').mean()\n",
        "print(cluster_summary)\n"
      ],
      "metadata": {
        "colab": {
          "base_uri": "https://localhost:8080/"
        },
        "id": "78q6rImsWYBJ",
        "outputId": "a0428c2a-a404-49bd-c9a2-e30a51a6bcfd"
      },
      "execution_count": 8,
      "outputs": [
        {
          "output_type": "stream",
          "name": "stdout",
          "text": [
            "         Hypertension  Diabetes  Heart Disease  Arthritis  Asthma      PCA1  \\\n",
            "Cluster                                                                       \n",
            "0                 0.0  0.500000            0.0   1.000000     0.5 -1.389242   \n",
            "1                 1.0  0.333333            1.0   0.333333     0.0  1.749855   \n",
            "2                 0.5  1.000000            0.0   0.000000     1.0 -1.235540   \n",
            "\n",
            "             PCA2  \n",
            "Cluster            \n",
            "0        0.978364  \n",
            "1        0.180379  \n",
            "2       -1.248932  \n"
          ]
        }
      ]
    },
    {
      "cell_type": "code",
      "source": [],
      "metadata": {
        "id": "onKRkSBOWUMm"
      },
      "execution_count": null,
      "outputs": []
    },
    {
      "cell_type": "code",
      "source": [],
      "metadata": {
        "id": "t9IpMNgLT6Yb"
      },
      "execution_count": null,
      "outputs": []
    }
  ]
}